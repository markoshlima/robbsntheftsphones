{
 "cells": [
  {
   "cell_type": "code",
   "execution_count": 2,
   "id": "308a4841-fe19-4bd5-93ba-dd1a62747e0d",
   "metadata": {},
   "outputs": [],
   "source": [
    "#import joblib  \n",
    "#model = joblib.load('model.pkl')\n",
    "\n",
    "import bz2file as bz2\n",
    "import pickle\n",
    "model = pickle.load(bz2.BZ2File('../model/model.pbz2', 'rb'))"
   ]
  },
  {
   "cell_type": "code",
   "execution_count": 3,
   "id": "f77e929d-e312-4b3f-baac-3d389fb1331e",
   "metadata": {},
   "outputs": [],
   "source": [
    "import pandas as pd"
   ]
  },
  {
   "cell_type": "code",
   "execution_count": 4,
   "id": "5ba6a4f2-7d32-4555-8923-74637df19c86",
   "metadata": {},
   "outputs": [],
   "source": [
    "single_df = pd.DataFrame([['MOOCA', 'Apple', 'DOMINGO', 'NOITE', 45, 'HOMEM']], columns=['BAIRRO', 'MARCA_OBJETO', 'DIA_SEMANA', 'PERIODO', 'IDADE', 'SEXO'])"
   ]
  },
  {
   "cell_type": "code",
   "execution_count": 6,
   "id": "64a113e8-c56c-47f3-a946-ce1b18d27979",
   "metadata": {},
   "outputs": [],
   "source": [
    "X_test = pd.read_csv(\"../data/base_to_single_predict.csv\")\n",
    "X_test = pd.concat([X_test, single_df])"
   ]
  },
  {
   "cell_type": "code",
   "execution_count": 7,
   "id": "35aedb8b-79c9-4b5a-958c-a6cc483792d2",
   "metadata": {},
   "outputs": [],
   "source": [
    "X_test[\"BAIRRO\"] = X_test[\"BAIRRO\"].astype(\"category\")\n",
    "X_test[\"MARCA_OBJETO\"] = X_test[\"MARCA_OBJETO\"].astype(\"category\")\n",
    "X_test[\"DIA_SEMANA\"] = X_test[\"DIA_SEMANA\"].astype(\"category\")\n",
    "X_test[\"SEXO\"] = X_test[\"SEXO\"].astype(\"category\")\n",
    "X_test[\"PERIODO\"] = X_test[\"PERIODO\"].astype(\"category\")"
   ]
  },
  {
   "cell_type": "code",
   "execution_count": 9,
   "id": "190db5c9-c574-443c-af9f-b29e80164638",
   "metadata": {},
   "outputs": [],
   "source": [
    "prev = model.predict_proba(X_test)"
   ]
  },
  {
   "cell_type": "code",
   "execution_count": 11,
   "id": "2ab618bb-488f-46e1-9603-96eec5fb27ef",
   "metadata": {},
   "outputs": [
    {
     "data": {
      "text/plain": [
       "array([[0.054043  , 0.05405313, 0.05434847, ..., 0.06165455, 0.06152413,\n",
       "        0.48872638],\n",
       "       [0.05594808, 0.05595857, 0.05626432, ..., 0.06000696, 0.06288915,\n",
       "        0.4786366 ],\n",
       "       [0.05527072, 0.05528107, 0.05558313, ..., 0.06498084, 0.05764281,\n",
       "        0.47223347],\n",
       "       ...,\n",
       "       [0.05671613, 0.05672676, 0.05703671, ..., 0.06509287, 0.06430768,\n",
       "        0.4547021 ],\n",
       "       [0.05629808, 0.05630863, 0.0566163 , ..., 0.06643684, 0.06925853,\n",
       "        0.45143783],\n",
       "       [0.05397427, 0.05398438, 0.05427935, ..., 0.06166743, 0.05994694,\n",
       "        0.49157128]], dtype=float32)"
      ]
     },
     "execution_count": 11,
     "metadata": {},
     "output_type": "execute_result"
    }
   ],
   "source": [
    "prev"
   ]
  },
  {
   "cell_type": "code",
   "execution_count": 13,
   "id": "54c69aa9-d518-4d1f-8fc9-551236799374",
   "metadata": {},
   "outputs": [],
   "source": [
    "response = prev[-1]"
   ]
  },
  {
   "cell_type": "code",
   "execution_count": 43,
   "id": "071ba63a-26f7-4088-a450-616500faa69a",
   "metadata": {},
   "outputs": [],
   "source": [
    "single_pred = pd.DataFrame(response)"
   ]
  },
  {
   "cell_type": "code",
   "execution_count": 44,
   "id": "9f7d48eb-e246-41d4-8075-d0bc457bfa61",
   "metadata": {},
   "outputs": [],
   "source": [
    "single_pred = pd.DataFrame([[\n",
    "    single_pred[0][0],\n",
    "    single_pred[0][1],\n",
    "    single_pred[0][2],\n",
    "    single_pred[0][3],\n",
    "    single_pred[0][4],\n",
    "    single_pred[0][5],\n",
    "    single_pred[0][6],\n",
    "    single_pred[0][7],\n",
    "    single_pred[0][8],\n",
    "    single_pred[0][9]\n",
    "]], columns=[\n",
    "    \"Escolas / Universidade\", \n",
    "    \"Escritórios\", \n",
    "    \"Saúde\",\n",
    "    \"Entreterimento\",\n",
    "    \"Alimentação\",\n",
    "    \"Transporte Privado\",\n",
    "    \"Estabelecimentos Comerciais / Industrias\",\n",
    "    \"Residência / Hospedagem\",\n",
    "    \"Transporte Público\",\n",
    "    \"Via Pública\"\n",
    "])"
   ]
  },
  {
   "cell_type": "code",
   "execution_count": 45,
   "id": "50c47185-1a66-40ac-bf3a-68f637431a90",
   "metadata": {},
   "outputs": [
    {
     "data": {
      "text/html": [
       "<div>\n",
       "<style scoped>\n",
       "    .dataframe tbody tr th:only-of-type {\n",
       "        vertical-align: middle;\n",
       "    }\n",
       "\n",
       "    .dataframe tbody tr th {\n",
       "        vertical-align: top;\n",
       "    }\n",
       "\n",
       "    .dataframe thead th {\n",
       "        text-align: right;\n",
       "    }\n",
       "</style>\n",
       "<table border=\"1\" class=\"dataframe\">\n",
       "  <thead>\n",
       "    <tr style=\"text-align: right;\">\n",
       "      <th></th>\n",
       "      <th>Escolas / Universidade</th>\n",
       "      <th>Escritórios</th>\n",
       "      <th>Saúde</th>\n",
       "      <th>Entreterimento</th>\n",
       "      <th>Alimentação</th>\n",
       "      <th>Transporte Privado</th>\n",
       "      <th>Estabelecimentos Comerciais / Industrias</th>\n",
       "      <th>Residência / Hospedagem</th>\n",
       "      <th>Transporte Público</th>\n",
       "      <th>Via Pública</th>\n",
       "    </tr>\n",
       "  </thead>\n",
       "  <tbody>\n",
       "    <tr>\n",
       "      <th>0</th>\n",
       "      <td>0.053974</td>\n",
       "      <td>0.053984</td>\n",
       "      <td>0.054279</td>\n",
       "      <td>0.054472</td>\n",
       "      <td>0.054505</td>\n",
       "      <td>0.059353</td>\n",
       "      <td>0.056247</td>\n",
       "      <td>0.061667</td>\n",
       "      <td>0.059947</td>\n",
       "      <td>0.491571</td>\n",
       "    </tr>\n",
       "  </tbody>\n",
       "</table>\n",
       "</div>"
      ],
      "text/plain": [
       "   Escolas / Universidade  Escritórios     Saúde  Entreterimento  Alimentação  \\\n",
       "0                0.053974     0.053984  0.054279        0.054472     0.054505   \n",
       "\n",
       "   Transporte Privado  Estabelecimentos Comerciais / Industrias  \\\n",
       "0            0.059353                                  0.056247   \n",
       "\n",
       "   Residência / Hospedagem  Transporte Público  Via Pública  \n",
       "0                 0.061667            0.059947     0.491571  "
      ]
     },
     "execution_count": 45,
     "metadata": {},
     "output_type": "execute_result"
    }
   ],
   "source": [
    "single_pred"
   ]
  },
  {
   "cell_type": "code",
   "execution_count": 46,
   "id": "220a6c04-ba57-44fc-b875-5ada6d1cd1a7",
   "metadata": {},
   "outputs": [],
   "source": [
    "single_pred *= 100"
   ]
  },
  {
   "cell_type": "code",
   "execution_count": 47,
   "id": "4540bc36-d103-492b-bfb6-fa5f377c38d0",
   "metadata": {},
   "outputs": [
    {
     "data": {
      "text/html": [
       "<div>\n",
       "<style scoped>\n",
       "    .dataframe tbody tr th:only-of-type {\n",
       "        vertical-align: middle;\n",
       "    }\n",
       "\n",
       "    .dataframe tbody tr th {\n",
       "        vertical-align: top;\n",
       "    }\n",
       "\n",
       "    .dataframe thead th {\n",
       "        text-align: right;\n",
       "    }\n",
       "</style>\n",
       "<table border=\"1\" class=\"dataframe\">\n",
       "  <thead>\n",
       "    <tr style=\"text-align: right;\">\n",
       "      <th></th>\n",
       "      <th>Escolas / Universidade</th>\n",
       "      <th>Escritórios</th>\n",
       "      <th>Saúde</th>\n",
       "      <th>Entreterimento</th>\n",
       "      <th>Alimentação</th>\n",
       "      <th>Transporte Privado</th>\n",
       "      <th>Estabelecimentos Comerciais / Industrias</th>\n",
       "      <th>Residência / Hospedagem</th>\n",
       "      <th>Transporte Público</th>\n",
       "      <th>Via Pública</th>\n",
       "    </tr>\n",
       "  </thead>\n",
       "  <tbody>\n",
       "    <tr>\n",
       "      <th>0</th>\n",
       "      <td>5.397427</td>\n",
       "      <td>5.398438</td>\n",
       "      <td>5.427935</td>\n",
       "      <td>5.447151</td>\n",
       "      <td>5.450509</td>\n",
       "      <td>5.935262</td>\n",
       "      <td>5.624709</td>\n",
       "      <td>6.166743</td>\n",
       "      <td>5.994694</td>\n",
       "      <td>49.157127</td>\n",
       "    </tr>\n",
       "  </tbody>\n",
       "</table>\n",
       "</div>"
      ],
      "text/plain": [
       "   Escolas / Universidade  Escritórios     Saúde  Entreterimento  Alimentação  \\\n",
       "0                5.397427     5.398438  5.427935        5.447151     5.450509   \n",
       "\n",
       "   Transporte Privado  Estabelecimentos Comerciais / Industrias  \\\n",
       "0            5.935262                                  5.624709   \n",
       "\n",
       "   Residência / Hospedagem  Transporte Público  Via Pública  \n",
       "0                 6.166743            5.994694    49.157127  "
      ]
     },
     "execution_count": 47,
     "metadata": {},
     "output_type": "execute_result"
    }
   ],
   "source": [
    "single_pred"
   ]
  },
  {
   "cell_type": "code",
   "execution_count": 48,
   "id": "26aae4a2-e6cf-4be0-a8ec-15658a055f1b",
   "metadata": {},
   "outputs": [],
   "source": [
    "single_pred = single_pred.sort_values(single_pred.last_valid_index(), axis=1)"
   ]
  },
  {
   "cell_type": "code",
   "execution_count": 49,
   "id": "9042d0a3-1d6c-4ded-a1ce-9020ba16d4aa",
   "metadata": {},
   "outputs": [
    {
     "data": {
      "text/html": [
       "<div>\n",
       "<style scoped>\n",
       "    .dataframe tbody tr th:only-of-type {\n",
       "        vertical-align: middle;\n",
       "    }\n",
       "\n",
       "    .dataframe tbody tr th {\n",
       "        vertical-align: top;\n",
       "    }\n",
       "\n",
       "    .dataframe thead th {\n",
       "        text-align: right;\n",
       "    }\n",
       "</style>\n",
       "<table border=\"1\" class=\"dataframe\">\n",
       "  <thead>\n",
       "    <tr style=\"text-align: right;\">\n",
       "      <th></th>\n",
       "      <th>Escolas / Universidade</th>\n",
       "      <th>Escritórios</th>\n",
       "      <th>Saúde</th>\n",
       "      <th>Entreterimento</th>\n",
       "      <th>Alimentação</th>\n",
       "      <th>Estabelecimentos Comerciais / Industrias</th>\n",
       "      <th>Transporte Privado</th>\n",
       "      <th>Transporte Público</th>\n",
       "      <th>Residência / Hospedagem</th>\n",
       "      <th>Via Pública</th>\n",
       "    </tr>\n",
       "  </thead>\n",
       "  <tbody>\n",
       "    <tr>\n",
       "      <th>0</th>\n",
       "      <td>5.397427</td>\n",
       "      <td>5.398438</td>\n",
       "      <td>5.427935</td>\n",
       "      <td>5.447151</td>\n",
       "      <td>5.450509</td>\n",
       "      <td>5.624709</td>\n",
       "      <td>5.935262</td>\n",
       "      <td>5.994694</td>\n",
       "      <td>6.166743</td>\n",
       "      <td>49.157127</td>\n",
       "    </tr>\n",
       "  </tbody>\n",
       "</table>\n",
       "</div>"
      ],
      "text/plain": [
       "   Escolas / Universidade  Escritórios     Saúde  Entreterimento  Alimentação  \\\n",
       "0                5.397427     5.398438  5.427935        5.447151     5.450509   \n",
       "\n",
       "   Estabelecimentos Comerciais / Industrias  Transporte Privado  \\\n",
       "0                                  5.624709            5.935262   \n",
       "\n",
       "   Transporte Público  Residência / Hospedagem  Via Pública  \n",
       "0            5.994694                 6.166743    49.157127  "
      ]
     },
     "execution_count": 49,
     "metadata": {},
     "output_type": "execute_result"
    }
   ],
   "source": [
    "single_pred"
   ]
  },
  {
   "cell_type": "code",
   "execution_count": 50,
   "id": "109fe535-84c8-4d9f-b7d3-9f26948e8f29",
   "metadata": {},
   "outputs": [],
   "source": [
    "result = single_pred.to_json(orient=\"split\")\n",
    "from json import loads, dumps\n",
    "parsed = loads(result)"
   ]
  },
  {
   "cell_type": "code",
   "execution_count": 51,
   "id": "150bce95-b54b-4626-bb65-84e74cc42ae2",
   "metadata": {},
   "outputs": [
    {
     "data": {
      "text/plain": [
       "{'columns': ['Escolas / Universidade',\n",
       "  'Escritórios',\n",
       "  'Saúde',\n",
       "  'Entreterimento',\n",
       "  'Alimentação',\n",
       "  'Estabelecimentos Comerciais / Industrias',\n",
       "  'Transporte Privado',\n",
       "  'Transporte Público',\n",
       "  'Residência / Hospedagem',\n",
       "  'Via Pública'],\n",
       " 'index': [0],\n",
       " 'data': [[5.3974270821,\n",
       "   5.3984384537,\n",
       "   5.4279351234,\n",
       "   5.4471507072,\n",
       "   5.4505085945,\n",
       "   5.6247091293,\n",
       "   5.9352622032,\n",
       "   5.9946937561,\n",
       "   6.1667432785,\n",
       "   49.1571273804]]}"
      ]
     },
     "execution_count": 51,
     "metadata": {},
     "output_type": "execute_result"
    }
   ],
   "source": [
    "parsed"
   ]
  },
  {
   "cell_type": "code",
   "execution_count": 52,
   "id": "6fe62e60-abb0-478b-81ad-eb480587773c",
   "metadata": {},
   "outputs": [],
   "source": [
    "response = []\n",
    "for x in range(10):\n",
    "  data = {\n",
    "            \"position\":x,\n",
    "            \"label\":parsed['columns'][x],\n",
    "            \"value\":parsed['data'][0][x]\n",
    "        }\n",
    "  \n",
    "  response.append(data)"
   ]
  },
  {
   "cell_type": "code",
   "execution_count": 53,
   "id": "2fd7922b-761e-44e6-a51c-709b679601b4",
   "metadata": {},
   "outputs": [
    {
     "data": {
      "text/plain": [
       "[{'position': 0, 'label': 'Escolas / Universidade', 'value': 5.3974270821},\n",
       " {'position': 1, 'label': 'Escritórios', 'value': 5.3984384537},\n",
       " {'position': 2, 'label': 'Saúde', 'value': 5.4279351234},\n",
       " {'position': 3, 'label': 'Entreterimento', 'value': 5.4471507072},\n",
       " {'position': 4, 'label': 'Alimentação', 'value': 5.4505085945},\n",
       " {'position': 5,\n",
       "  'label': 'Estabelecimentos Comerciais / Industrias',\n",
       "  'value': 5.6247091293},\n",
       " {'position': 6, 'label': 'Transporte Privado', 'value': 5.9352622032},\n",
       " {'position': 7, 'label': 'Transporte Público', 'value': 5.9946937561},\n",
       " {'position': 8, 'label': 'Residência / Hospedagem', 'value': 6.1667432785},\n",
       " {'position': 9, 'label': 'Via Pública', 'value': 49.1571273804}]"
      ]
     },
     "execution_count": 53,
     "metadata": {},
     "output_type": "execute_result"
    }
   ],
   "source": [
    "response"
   ]
  },
  {
   "cell_type": "code",
   "execution_count": 54,
   "id": "8218cd2f-d4b5-43f3-985b-c95edd969239",
   "metadata": {},
   "outputs": [],
   "source": [
    "import matplotlib.pyplot as plt\n",
    "import xgboost as xgb"
   ]
  },
  {
   "cell_type": "code",
   "execution_count": null,
   "id": "ef8c3afd-1ad1-47c8-adb5-a4924c978e71",
   "metadata": {},
   "outputs": [],
   "source": [
    "#pip install graphviz"
   ]
  },
  {
   "cell_type": "code",
   "execution_count": null,
   "id": "6c31ceb8-0af6-4242-a3bb-377e40867a20",
   "metadata": {},
   "outputs": [],
   "source": [
    "fig, ax = plt.subplots(figsize=(30,30))\n",
    "xgb.plot_tree(model, num_trees=4, ax=ax)\n",
    "plt.show()"
   ]
  }
 ],
 "metadata": {
  "kernelspec": {
   "display_name": "Python 3 (ipykernel)",
   "language": "python",
   "name": "python3"
  },
  "language_info": {
   "codemirror_mode": {
    "name": "ipython",
    "version": 3
   },
   "file_extension": ".py",
   "mimetype": "text/x-python",
   "name": "python",
   "nbconvert_exporter": "python",
   "pygments_lexer": "ipython3",
   "version": "3.9.13"
  }
 },
 "nbformat": 4,
 "nbformat_minor": 5
}
